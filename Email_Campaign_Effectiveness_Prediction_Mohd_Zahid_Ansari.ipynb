{
  "nbformat": 4,
  "nbformat_minor": 0,
  "metadata": {
    "colab": {
      "private_outputs": true,
      "provenance": [],
      "collapsed_sections": [
        "FJNUwmbgGyua",
        "PBTbrJXOngz2",
        "u3PMJOP6ngxN",
        "dauF4eBmngu3",
        "bKJF3rekwFvQ",
        "MSa1f5Uengrz",
        "GF8Ens_Soomf",
        "0wOQAZs5pc--",
        "K5QZ13OEpz2H",
        "lQ7QKXXCp7Bj",
        "448CDAPjqfQr",
        "KSlN3yHqYklG",
        "t6dVpIINYklI",
        "ijmpgYnKYklI",
        "-JiQyfWJYklI",
        "EM7whBJCYoAo",
        "fge-S5ZAYoAp",
        "85gYPyotYoAp",
        "RoGjAbkUYoAp",
        "4Of9eVA-YrdM",
        "iky9q4vBYrdO",
        "F6T5p64dYrdO",
        "y-Ehk30pYrdP",
        "bamQiAODYuh1",
        "QHF8YVU7Yuh3",
        "GwzvFGzlYuh3",
        "qYpmQ266Yuh3",
        "OH-pJp9IphqM",
        "bbFf2-_FphqN",
        "_ouA3fa0phqN",
        "Seke61FWphqN",
        "PIIx-8_IphqN",
        "t27r6nlMphqO",
        "r2jJGEOYphqO",
        "b0JNsNcRphqO",
        "BZR9WyysphqO",
        "jj7wYXLtphqO",
        "eZrbJ2SmphqO",
        "rFu4xreNphqO",
        "YJ55k-q6phqO",
        "gCFgpxoyphqP",
        "OVtJsKN_phqQ",
        "lssrdh5qphqQ",
        "U2RJ9gkRphqQ",
        "1M8mcRywphqQ",
        "tgIPom80phqQ",
        "JMzcOPDDphqR",
        "x-EpHcCOp1ci",
        "X_VqEhTip1ck",
        "8zGJKyg5p1ck",
        "PVzmfK_Ep1ck",
        "n3dbpmDWp1ck",
        "ylSl6qgtp1ck",
        "ZWILFDl5p1ck",
        "M7G43BXep1ck",
        "Ag9LCva-p1cl",
        "E6MkPsBcp1cl",
        "2cELzS2fp1cl",
        "3MPXvC8up1cl",
        "NC_X3p0fY2L0",
        "UV0SzAkaZNRQ",
        "YPEH6qLeZNRQ",
        "q29F0dvdveiT",
        "EXh0U9oCveiU",
        "22aHeOlLveiV",
        "g-ATYxFrGrvw",
        "Yfr_Vlr8HBkt",
        "8yEUt7NnHlrM",
        "tEA2Xm5dHt1r",
        "I79__PHVH19G",
        "Ou-I18pAyIpj",
        "fF3858GYyt-u",
        "4_0_7-oCpUZd",
        "hwyV_J3ipUZe",
        "3yB-zSqbpUZe",
        "dEUvejAfpUZe",
        "Fd15vwWVpUZf",
        "bn_IUdTipZyH",
        "49K5P_iCpZyH",
        "Nff-vKELpZyI",
        "kLW572S8pZyI",
        "dWbDXHzopZyI",
        "yLjJCtPM0KBk",
        "xiyOF9F70UgQ",
        "7wuGOrhz0itI",
        "id1riN9m0vUs",
        "578E2V7j08f6",
        "89xtkJwZ18nB",
        "67NQN5KX2AMe",
        "Iwf50b-R2tYG",
        "GMQiZwjn3iu7",
        "WVIkgGqN3qsr",
        "XkPnILGE3zoT",
        "Hlsf0x5436Go",
        "mT9DMSJo4nBL",
        "c49ITxTc407N",
        "OeJFEK0N496M",
        "9ExmJH0g5HBk",
        "cJNqERVU536h",
        "k5UmGsbsOxih",
        "T0VqWOYE6DLQ",
        "qBMux9mC6MCf",
        "-oLEiFgy-5Pf",
        "C74aWNz2AliB",
        "2DejudWSA-a0",
        "pEMng2IbBLp7",
        "rAdphbQ9Bhjc",
        "TNVZ9zx19K6k",
        "nqoHp30x9hH9",
        "rMDnDkt2B6du",
        "yiiVWRdJDDil",
        "1UUpS68QDMuG",
        "kexQrXU-DjzY",
        "T5CmagL3EC8N",
        "BhH2vgX9EjGr",
        "qjKvONjwE8ra",
        "P1XJ9OREExlT",
        "VFOzZv6IFROw",
        "TIqpNgepFxVj",
        "VfCC591jGiD4",
        "OB4l2ZhMeS1U",
        "ArJBuiUVfxKd",
        "4qY1EAkEfxKe",
        "PiV4Ypx8fxKe",
        "TfvqoZmBfxKf",
        "dJ2tPlVmpsJ0",
        "JWYfwnehpsJ1",
        "-jK_YjpMpsJ2",
        "HAih1iBOpsJ2",
        "zVGeBEFhpsJ2",
        "bmKjuQ-FpsJ3",
        "Fze-IPXLpx6K",
        "7AN1z2sKpx6M",
        "9PIHJqyupx6M",
        "_-qAgymDpx6N",
        "Z-hykwinpx6N",
        "h_CCil-SKHpo",
        "cBFFvTBNJzUa",
        "HvGl1hHyA_VK",
        "EyNgTHvd2WFk",
        "KH5McJBi2d8v",
        "iW_Lq9qf2h6X",
        "-Kee-DAl2viO",
        "gCX9965dhzqZ",
        "gIfDvo9L0UH2"
      ],
      "include_colab_link": true
    },
    "kernelspec": {
      "name": "python3",
      "display_name": "Python 3"
    },
    "language_info": {
      "name": "python"
    }
  },
  "cells": [
    {
      "cell_type": "markdown",
      "metadata": {
        "id": "view-in-github",
        "colab_type": "text"
      },
      "source": [
        "<a href=\"https://colab.research.google.com/github/pyhtonman0101/Email-Campaign-Effectiveness-Prediction/blob/main/Email_Campaign_Effectiveness_Prediction_Mohd_Zahid_Ansari.ipynb\" target=\"_parent\"><img src=\"https://colab.research.google.com/assets/colab-badge.svg\" alt=\"Open In Colab\"/></a>"
      ]
    },
    {
      "cell_type": "markdown",
      "source": [
        "# **Project Name**    - \n",
        "\n"
      ],
      "metadata": {
        "id": "vncDsAP0Gaoa"
      }
    },
    {
      "cell_type": "markdown",
      "source": [
        "##### **Project Type**    - Classification\n",
        "##### **Contribution**    - Individual\n",
        "##### **Team Member 1 -**Mohd Zahid Ansari\n",
        "##### **Team Member 2 -**\n",
        "##### **Team Member 3 -**\n",
        "##### **Team Member 4 -**"
      ],
      "metadata": {
        "id": "beRrZCGUAJYm"
      }
    },
    {
      "cell_type": "markdown",
      "source": [
        "# **Project Summary -**"
      ],
      "metadata": {
        "id": "FJNUwmbgGyua"
      }
    },
    {
      "cell_type": "markdown",
      "source": [
        "Write the summary here within 500-600 words."
      ],
      "metadata": {
        "id": "F6v_1wHtG2nS"
      }
    },
    {
      "cell_type": "markdown",
      "source": [
        "# **GitHub Link -**"
      ],
      "metadata": {
        "id": "w6K7xa23Elo4"
      }
    },
    {
      "cell_type": "markdown",
      "source": [
        "Provide your GitHub Link here."
      ],
      "metadata": {
        "id": "h1o69JH3Eqqn"
      }
    },
    {
      "cell_type": "markdown",
      "source": [
        "# **Problem Statement**\n"
      ],
      "metadata": {
        "id": "yQaldy8SH6Dl"
      }
    },
    {
      "cell_type": "markdown",
      "source": [
        "Most of the small to medium business owners are making effective use of Gmail-based Email marketing Strategies for offline targeting of converting their prospective customers into leads so that they stay with them in Business. \n",
        "\n",
        "The main objective is to create a machine learning model to characterize the mail and track the mail that is ignored, read, acknowledged by the reader."
      ],
      "metadata": {
        "id": "DpeJGUA3kjGy"
      }
    },
    {
      "cell_type": "markdown",
      "source": [
        "![email_campaign_7ad4a743b4.jpg](data:image/jpeg;base64,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)"
      ],
      "metadata": {
        "id": "fR3Dk4fbeiit"
      }
    },
    {
      "cell_type": "markdown",
      "source": [
        "# **General Guidelines** : -  "
      ],
      "metadata": {
        "id": "mDgbUHAGgjLW"
      }
    },
    {
      "cell_type": "markdown",
      "source": [
        "1.   Well-structured, formatted, and commented code is required. \n",
        "2.   Exception Handling, Production Grade Code & Deployment Ready Code will be a plus. Those students will be awarded some additional credits. \n",
        "     \n",
        "     The additional credits will have advantages over other students during Star Student selection.\n",
        "       \n",
        "             [ Note: - Deployment Ready Code is defined as, the whole .ipynb notebook should be executable in one go\n",
        "                       without a single error logged. ]\n",
        "\n",
        "3.   Each and every logic should have proper comments.\n",
        "4. You may add as many number of charts you want. Make Sure for each and every chart the following format should be answered.\n",
        "        \n",
        "\n",
        "```\n",
        "# Chart visualization code\n",
        "```\n",
        "            \n",
        "\n",
        "*   Why did you pick the specific chart?\n",
        "*   What is/are the insight(s) found from the chart?\n",
        "* Will the gained insights help creating a positive business impact? \n",
        "Are there any insights that lead to negative growth? Justify with specific reason.\n",
        "\n",
        "5. You have to create at least 15 logical & meaningful charts having important insights.\n",
        "\n",
        "\n",
        "[ Hints : - Do the Vizualization in  a structured way while following \"UBM\" Rule. \n",
        "\n",
        "U - Univariate Analysis,\n",
        "\n",
        "B - Bivariate Analysis (Numerical - Categorical, Numerical - Numerical, Categorical - Categorical)\n",
        "\n",
        "M - Multivariate Analysis\n",
        " ]\n",
        "\n",
        "\n",
        "\n",
        "\n",
        "\n",
        "6. You may add more ml algorithms for model creation. Make sure for each and every algorithm, the following format should be answered.\n",
        "\n",
        "\n",
        "*   Explain the ML Model used and it's performance using Evaluation metric Score Chart.\n",
        "\n",
        "\n",
        "*   Cross- Validation & Hyperparameter Tuning\n",
        "\n",
        "*   Have you seen any improvement? Note down the improvement with updates Evaluation metric Score Chart.\n",
        "\n",
        "*   Explain each evaluation metric's indication towards business and the business impact pf the ML model used.\n",
        "\n",
        "\n",
        "\n",
        "\n",
        "\n",
        "\n",
        "\n",
        "\n",
        "\n",
        "\n",
        "\n",
        "\n",
        "\n",
        "\n",
        "\n",
        "\n",
        "\n",
        "\n"
      ],
      "metadata": {
        "id": "ZrxVaUj-hHfC"
      }
    },
    {
      "cell_type": "markdown",
      "source": [
        "# ***Let's Begin !***"
      ],
      "metadata": {
        "id": "O_i_v8NEhb9l"
      }
    },
    {
      "cell_type": "markdown",
      "source": [
        "## ***1. Know Your Data***"
      ],
      "metadata": {
        "id": "HhfV-JJviCcP"
      }
    },
    {
      "cell_type": "markdown",
      "source": [
        "### Import Libraries"
      ],
      "metadata": {
        "id": "Y3lxredqlCYt"
      }
    },
    {
      "cell_type": "code",
      "source": [
        "# Import Libraries\n",
        "import numpy as np\n",
        "import pandas as pd\n",
        "\n",
        "import seaborn as sns\n",
        "import matplotlib.pyplot as plt\n",
        "%matplotlib inline\n",
        "\n",
        "import numpy as np\n",
        "import seaborn as sns\n",
        "from scipy.stats import *\n",
        "from scipy import stats\n",
        "import math\n",
        "\n",
        "from statsmodels.stats.outliers_influence import variance_inflation_factor\n",
        "from sklearn.preprocessing import StandardScaler\n",
        "from sklearn.model_selection import train_test_split\n",
        "from imblearn.over_sampling import SMOTE\n",
        "from sklearn.linear_model import LogisticRegression\n",
        "from sklearn.ensemble import RandomForestClassifier\n",
        "from sklearn.metrics import accuracy_score, confusion_matrix,f1_score, recall_score\n",
        "from sklearn import metrics\n",
        "from sklearn.metrics import roc_curve,roc_auc_score,precision_score, roc_auc_score\n",
        "# from sklearn.metrics import roc_auc_ovr\n",
        "# from sklearn.metrics import roc_auc_ovo\n",
        "from sklearn.model_selection import GridSearchCV\n",
        "from sklearn.model_selection import RepeatedStratifiedKFold\n",
        "\n",
        "from xgboost import XGBClassifier\n",
        "from xgboost import XGBRFClassifier\n",
        "\n",
        "!pip install shap\n",
        "import shap\n",
        "\n",
        "# The following lines adjust the granularity of reporting. \n",
        "pd.options.display.float_format = \"{:.2f}\".format\n",
        "\n",
        "import warnings\n",
        "warnings.filterwarnings('ignore')\n"
      ],
      "metadata": {
        "id": "M8Vqi-pPk-HR"
      },
      "execution_count": null,
      "outputs": []
    },
    {
      "cell_type": "markdown",
      "source": [
        "### Dataset Loading"
      ],
      "metadata": {
        "id": "3RnN4peoiCZX"
      }
    },
    {
      "cell_type": "code",
      "source": [
        "from google.colab import drive\n",
        "drive.mount('/content/drive')"
      ],
      "metadata": {
        "id": "lZTKJa7g2tcq"
      },
      "execution_count": null,
      "outputs": []
    },
    {
      "cell_type": "code",
      "source": [
        "# Load Dataset  \n",
        "email_df = pd.read_csv('/content/drive/MyDrive/Colab Notebooks/Module 4/Email Campaign Effectiveness Prediction - Mohd Zahid Ansari/data_email_campaign.csv')"
      ],
      "metadata": {
        "id": "4CkvbW_SlZ_R"
      },
      "execution_count": null,
      "outputs": []
    },
    {
      "cell_type": "markdown",
      "source": [
        "### Dataset First View"
      ],
      "metadata": {
        "id": "x71ZqKXriCWQ"
      }
    },
    {
      "cell_type": "code",
      "source": [
        "# Dataset First Look\n",
        "email_df.head()"
      ],
      "metadata": {
        "id": "LWNFOSvLl09H"
      },
      "execution_count": null,
      "outputs": []
    },
    {
      "cell_type": "code",
      "source": [
        "email_df.tail()"
      ],
      "metadata": {
        "id": "d3BxxjEp4TDy"
      },
      "execution_count": null,
      "outputs": []
    },
    {
      "cell_type": "markdown",
      "source": [
        "### Dataset Rows & Columns count"
      ],
      "metadata": {
        "id": "7hBIi_osiCS2"
      }
    },
    {
      "cell_type": "code",
      "source": [
        "# Dataset Rows & Columns count\n",
        "email_df.shape"
      ],
      "metadata": {
        "id": "Kllu7SJgmLij"
      },
      "execution_count": null,
      "outputs": []
    },
    {
      "cell_type": "markdown",
      "source": [
        "### Dataset Information"
      ],
      "metadata": {
        "id": "JlHwYmJAmNHm"
      }
    },
    {
      "cell_type": "code",
      "source": [
        "# Dataset Info\n",
        "email_df.info()"
      ],
      "metadata": {
        "id": "e9hRXRi6meOf"
      },
      "execution_count": null,
      "outputs": []
    },
    {
      "cell_type": "markdown",
      "source": [
        "#### Duplicate Values"
      ],
      "metadata": {
        "id": "35m5QtbWiB9F"
      }
    },
    {
      "cell_type": "code",
      "source": [
        "# Dataset Duplicate Value Count\n",
        "print(f'Duplicate values in the email_df dataset: {len(email_df[email_df.duplicated()])}')"
      ],
      "metadata": {
        "id": "1sLdpKYkmox0"
      },
      "execution_count": null,
      "outputs": []
    },
    {
      "cell_type": "markdown",
      "source": [
        "#### Missing Values/Null Values"
      ],
      "metadata": {
        "id": "PoPl-ycgm1ru"
      }
    },
    {
      "cell_type": "code",
      "source": [
        "# Missing Values/Null Values Count\n",
        "email_df.isnull().sum()"
      ],
      "metadata": {
        "id": "GgHWkxvamxVg"
      },
      "execution_count": null,
      "outputs": []
    },
    {
      "cell_type": "code",
      "source": [
        "columns = list(email_df.columns)\n",
        "columns"
      ],
      "metadata": {
        "id": "3q5wnI3om9sJ"
      },
      "execution_count": null,
      "outputs": []
    },
    {
      "cell_type": "code",
      "source": [
        "# Visualizing the missing values\n",
        "for feature in columns:\n",
        "  print(f'Percentage of missing values in {feature} feature: {(email_df[feature].isnull().sum())/email_df.shape[0]*100}%')"
      ],
      "metadata": {
        "id": "g_HESMvUQwKX"
      },
      "execution_count": null,
      "outputs": []
    },
    {
      "cell_type": "markdown",
      "source": [
        "### What did you know about your dataset?"
      ],
      "metadata": {
        "id": "H0kj-8xxnORC"
      }
    },
    {
      "cell_type": "markdown",
      "source": [
        "Answer Here"
      ],
      "metadata": {
        "id": "gfoNAAC-nUe_"
      }
    },
    {
      "cell_type": "markdown",
      "source": [
        "## ***2. Understanding Your Variables***"
      ],
      "metadata": {
        "id": "nA9Y7ga8ng1Z"
      }
    },
    {
      "cell_type": "code",
      "source": [
        "# Dataset Describe\n",
        "email_df.describe()"
      ],
      "metadata": {
        "id": "DnOaZdaE5Q5t"
      },
      "execution_count": null,
      "outputs": []
    },
    {
      "cell_type": "markdown",
      "source": [
        "### Variables Description "
      ],
      "metadata": {
        "id": "PBTbrJXOngz2"
      }
    },
    {
      "cell_type": "markdown",
      "source": [
        "Answer Here"
      ],
      "metadata": {
        "id": "aJV4KIxSnxay"
      }
    },
    {
      "cell_type": "markdown",
      "source": [
        "### Check Unique Values for each variable."
      ],
      "metadata": {
        "id": "u3PMJOP6ngxN"
      }
    },
    {
      "cell_type": "code",
      "source": [
        "# Check Unique Values for each variable.\n",
        "for feature in columns[1:]:\n",
        "  print(f'Unique values of {feature}:\\n', email_df[feature].unique(), '\\n')\n"
      ],
      "metadata": {
        "id": "zms12Yq5n-jE"
      },
      "execution_count": null,
      "outputs": []
    },
    {
      "cell_type": "markdown",
      "source": [
        "## 3. ***Data Wrangling***"
      ],
      "metadata": {
        "id": "dauF4eBmngu3"
      }
    },
    {
      "cell_type": "markdown",
      "source": [
        "### Data Wrangling Code"
      ],
      "metadata": {
        "id": "bKJF3rekwFvQ"
      }
    },
    {
      "cell_type": "code",
      "source": [
        "# Checking Shape of Email Read\n",
        "print(\"No. of Email Read : \",len(email_df[email_df['Email_Status'] == 1]))\n",
        "# Checking Shape of Email Acknowledged by Reader\n",
        "print(\"No. of Email Acknowledged : \",len(email_df[email_df['Email_Status'] == 2]))\n",
        "# Checking Shape of Email Ignored\n",
        "print(\"No. of Email Ignored : \",len(email_df[email_df['Email_Status'] == 0]))"
      ],
      "metadata": {
        "id": "wk-9a2fpoLcV"
      },
      "execution_count": null,
      "outputs": []
    },
    {
      "cell_type": "code",
      "source": [
        "#creating variable to store numerical feature\n",
        "num_feature = email_df.select_dtypes(include = 'float').columns.to_list()\n",
        "num_feature.append('Word_Count')\n",
        "num_feature"
      ],
      "metadata": {
        "id": "-XD6UyCQiwEF"
      },
      "execution_count": null,
      "outputs": []
    },
    {
      "cell_type": "code",
      "source": [
        "#creating variable to store categorial features\n",
        "cat_feature = [feature for feature in email_df.columns.to_list() if feature not in num_feature]\n",
        "cat_feature "
      ],
      "metadata": {
        "id": "IcMRq-qOtBX2"
      },
      "execution_count": null,
      "outputs": []
    },
    {
      "cell_type": "code",
      "source": [
        "# function to calculate engagement rate, open rate and ignored rate \n",
        "#engagement rate\n",
        "def Engagement(group):\n",
        "  acknowledged_emails = group[group['Email_Status'] == 2]\n",
        "  return len(acknowledged_emails) / len(group)\n",
        "\n",
        "#open rate\n",
        "def Open(group):\n",
        "  opened_emails = group[group['Email_Status'] != 0]\n",
        "  return len(opened_emails) / len(group)\n",
        "\n",
        "#ignore rate\n",
        "def Ignore(group):\n",
        "  ignored_emails = group[group['Email_Status'] == 0]\n",
        "  return (len(ignored_emails)/ len(group))"
      ],
      "metadata": {
        "id": "lPbz5ZeFuvs0"
      },
      "execution_count": null,
      "outputs": []
    },
    {
      "cell_type": "code",
      "source": [
        "# calculating engagement, open and ignored rate for each categorial feaure\n",
        "for cat in cat_feature:\n",
        "  if (cat == 'Email_Status') | (cat == 'Email_ID'):\n",
        "    pass\n",
        "  else:\n",
        "    print(f'Engagement Rate for {cat}')\n",
        "    print(email_df.groupby(cat).apply(Engagement))\n",
        "    print('\\n')\n",
        "    print(f'Open Rate for {cat}')\n",
        "    print(email_df.groupby(cat).apply(Open))\n",
        "    print('\\n')\n",
        "    print(f'Ignored Rate for {cat}')\n",
        "    print(email_df.groupby(cat).apply(Ignore))\n",
        "    print('='*120)"
      ],
      "metadata": {
        "id": "IcLW0LM6wNbG"
      },
      "execution_count": null,
      "outputs": []
    },
    {
      "cell_type": "markdown",
      "source": [
        "### What all manipulations have you done and insights you found?"
      ],
      "metadata": {
        "id": "MSa1f5Uengrz"
      }
    },
    {
      "cell_type": "markdown",
      "source": [
        "Answer Here."
      ],
      "metadata": {
        "id": "LbyXE7I1olp8"
      }
    },
    {
      "cell_type": "markdown",
      "source": [
        "## ***4. Data Vizualization, Storytelling & Experimenting with charts : Understand the relationships between variables***"
      ],
      "metadata": {
        "id": "GF8Ens_Soomf"
      }
    },
    {
      "cell_type": "markdown",
      "source": [
        "#### Chart - 1: Distribution Plot of continuous variable.(Distplot)"
      ],
      "metadata": {
        "id": "0wOQAZs5pc--"
      }
    },
    {
      "cell_type": "code",
      "source": [
        "enumerate(num_feature)"
      ],
      "metadata": {
        "id": "TON1y_bmypyR"
      },
      "execution_count": null,
      "outputs": []
    },
    {
      "cell_type": "code",
      "source": [
        "# Chart - 1 visualization code numerical feature\n",
        "graph = plt.figure(figsize = (20,30))\n",
        "for i,col in enumerate(num_feature) :\n",
        "    sns.set_style(\"ticks\")\n",
        "    sns.set_context(\"poster\");\n",
        "    plt.subplot(6,2,i+1);\n",
        "    sns.distplot(email_df[col], color = '#055E85', fit = norm);\n",
        "    feature = email_df[col]\n",
        "    plt.axvline(feature.mean(), color='#ff033e', linestyle='dashed', linewidth=3,label= 'mean');  #red\n",
        "    plt.axvline(feature.median(), color='#A020F0', linestyle='dashed', linewidth=3,label='median'); #cyan\n",
        "    plt.legend(bbox_to_anchor = (1.0, 1), loc = 'upper right')\n",
        "    plt.title(f'{col.title()}');\n",
        "    plt.tight_layout();\n"
      ],
      "metadata": {
        "id": "7v_ESjsspbW7"
      },
      "execution_count": null,
      "outputs": []
    },
    {
      "cell_type": "markdown",
      "source": [
        "##### 1. Why did you pick the specific chart?"
      ],
      "metadata": {
        "id": "K5QZ13OEpz2H"
      }
    },
    {
      "cell_type": "markdown",
      "source": [
        "Answer Here."
      ],
      "metadata": {
        "id": "XESiWehPqBRc"
      }
    },
    {
      "cell_type": "markdown",
      "source": [
        "##### 2. What is/are the insight(s) found from the chart?"
      ],
      "metadata": {
        "id": "lQ7QKXXCp7Bj"
      }
    },
    {
      "cell_type": "markdown",
      "source": [
        "Answer Here"
      ],
      "metadata": {
        "id": "C_j1G7yiqdRP"
      }
    },
    {
      "cell_type": "markdown",
      "source": [
        "##### 3. Will the gained insights help creating a positive business impact? \n",
        "Are there any insights that lead to negative growth? Justify with specific reason."
      ],
      "metadata": {
        "id": "448CDAPjqfQr"
      }
    },
    {
      "cell_type": "markdown",
      "source": [
        "Answer Here"
      ],
      "metadata": {
        "id": "3cspy4FjqxJW"
      }
    },
    {
      "cell_type": "markdown",
      "source": [
        "#### Chart - 2"
      ],
      "metadata": {
        "id": "KSlN3yHqYklG"
      }
    },
    {
      "cell_type": "code",
      "source": [
        "ds_cat = email_df[cat_feature]\n",
        "ds_cat"
      ],
      "metadata": {
        "id": "UXZBC1CxW40b"
      },
      "execution_count": null,
      "outputs": []
    },
    {
      "cell_type": "code",
      "source": [
        "# categorical_variables = ['DayOfWeek','Open','Promo','StateHoliday','SchoolHoliday','StoreType','Assortment',\n",
        "                        #  'CompetitionOpenSinceMonth','Promo2','Promo2SinceYear','PromoInterval']\n",
        "\n",
        "fig, axs = plt.subplots(3, 2,figsize=(25, 25))\n",
        "# j and k is for iterating through axis in subplot\n",
        "j=0\n",
        "k=-1\n",
        "for i in cat_feature[1:-1]:\n",
        "# Updating j and k for plotting on subplot  \n",
        "  k+=1\n",
        "  if k>1:\n",
        "    k=0\n",
        "    j+=1\n",
        "\n",
        "  sns.countplot(data = ds_cat, x=i,hue='Email_Status', ax=axs[j, k],palette='viridis')\n",
        "  # axs[j,k].set(title = f'Graph between {i} and Sales', xlabel=i)"
      ],
      "metadata": {
        "id": "R4YgtaqtYklH"
      },
      "execution_count": null,
      "outputs": []
    },
    {
      "cell_type": "markdown",
      "source": [
        "###Effect of Email Type \n",
        "Type 1 = Marketing\n",
        "\n",
        "Type 2 = Important Notice"
      ],
      "metadata": {
        "id": "IHm7ZxSxv5QV"
      }
    },
    {
      "cell_type": "markdown",
      "source": [
        "#### Chart - 2 Enagement Based on Email Type"
      ],
      "metadata": {
        "id": "fTRfSKi9TWzI"
      }
    },
    {
      "cell_type": "code",
      "source": [
        "# Chart - 2 visualization code\n",
        "plt.figure(figsize = (10,10))\n",
        "ax = sns.countplot(x=email_df['Email_Status'], hue=email_df['Email_Type'], palette='viridis')\n",
        "unique = len([x for x in email_df['Email_Status'].unique()])\n",
        "bars = ax.patches\n",
        "for i in range(unique):\n",
        "    catbars=bars[i:][::unique]\n",
        "    #get height\n",
        "    total = sum([x.get_height() for x in catbars])\n",
        "    #print percentage\n",
        "    for bar in catbars:\n",
        "      ax.text(bar.get_x()+bar.get_width()/2.,\n",
        "                  bar.get_height(),\n",
        "                  f'{bar.get_height()/total:.0%}',\n",
        "                  ha=\"center\",va=\"bottom\")\n",
        "plt.show()"
      ],
      "metadata": {
        "id": "O07YLjYhTWzJ"
      },
      "execution_count": null,
      "outputs": []
    },
    {
      "cell_type": "code",
      "source": [
        "#pie chart for distribution of each email type\n",
        "email_df['Email_Type'].value_counts().plot(kind='pie',\n",
        "                              figsize=(15,6),\n",
        "                               autopct=\"%1.1f%%\",\n",
        "                               startangle=90,\n",
        "                               shadow=True,\n",
        "                               labels=['Email_Type 1','Email_Type 2'],\n",
        "                               colors=['darkblue','darkgreen'],\n",
        "                               explode=[0,0]\n",
        "                              );"
      ],
      "metadata": {
        "id": "NVsWnfFsATdX"
      },
      "execution_count": null,
      "outputs": []
    },
    {
      "cell_type": "markdown",
      "source": [
        "##### 1. Why did you pick the specific chart?"
      ],
      "metadata": {
        "id": "t6dVpIINYklI"
      }
    },
    {
      "cell_type": "markdown",
      "source": [
        "Answer Here."
      ],
      "metadata": {
        "id": "5aaW0BYyYklI"
      }
    },
    {
      "cell_type": "markdown",
      "source": [
        "##### 2. What is/are the insight(s) found from the chart?"
      ],
      "metadata": {
        "id": "ijmpgYnKYklI"
      }
    },
    {
      "cell_type": "markdown",
      "source": [
        "Answer Here"
      ],
      "metadata": {
        "id": "PSx9atu2YklI"
      }
    },
    {
      "cell_type": "markdown",
      "source": [
        "##### 3. Will the gained insights help creating a positive business impact? \n",
        "Are there any insights that lead to negative growth? Justify with specific reason."
      ],
      "metadata": {
        "id": "-JiQyfWJYklI"
      }
    },
    {
      "cell_type": "markdown",
      "source": [
        "Answer Here"
      ],
      "metadata": {
        "id": "BcBbebzrYklV"
      }
    },
    {
      "cell_type": "markdown",
      "source": [
        "#### Chart - 3: Engagement based on Email Type with all numerical features"
      ],
      "metadata": {
        "id": "EM7whBJCYoAo"
      }
    },
    {
      "cell_type": "code",
      "source": [
        "fig, axs = plt.subplots(3, 2,figsize=(35, 35))\n",
        "# j and k is for iterating through axis in subplot\n",
        "j=0\n",
        "k=-1\n",
        "for value in num_feature:\n",
        "# Updating j and k for plotting on subplot  \n",
        "  k+=1\n",
        "  if k>1:\n",
        "    k=0\n",
        "    j+=1\n",
        "\n",
        "  ax = sns.barplot(data = email_df, x = 'Email_Status',y = value, hue = 'Email_Type', ax=axs[j, k],palette='viridis')\n",
        "  unique = len([x for x in email_df['Email_Status'].unique()])\n",
        "  bars = ax.patches\n",
        "  for i in range(unique):\n",
        "      catbars=bars[i:][::unique]\n",
        "      #get height\n",
        "      total = sum([x.get_height() for x in catbars])\n",
        "      #print percentage\n",
        "      for bar in catbars:\n",
        "        ax.text(bar.get_x()+bar.get_width()/2.,\n",
        "                    bar.get_height(),\n",
        "                    f'{bar.get_height()/total:.0%}',\n",
        "                    ha=\"center\",va=\"bottom\")\n",
        "  # plt.legend(bbox_to_anchor = (1.0, 1), loc = 'upper right')\n",
        "  # plt.title(value)\n",
        "  \n",
        "  # print('='*120)\n",
        "  axs[j,k].set(title = f'Graph between {value} and Email Status')\n"
      ],
      "metadata": {
        "id": "t6GMdE67YoAp"
      },
      "execution_count": null,
      "outputs": []
    },
    {
      "cell_type": "markdown",
      "source": [
        "##### 1. Why did you pick the specific chart?"
      ],
      "metadata": {
        "id": "fge-S5ZAYoAp"
      }
    },
    {
      "cell_type": "markdown",
      "source": [
        "Answer Here."
      ],
      "metadata": {
        "id": "5dBItgRVYoAp"
      }
    },
    {
      "cell_type": "markdown",
      "source": [
        "##### 2. What is/are the insight(s) found from the chart?"
      ],
      "metadata": {
        "id": "85gYPyotYoAp"
      }
    },
    {
      "cell_type": "markdown",
      "source": [
        "Answer Here"
      ],
      "metadata": {
        "id": "4jstXR6OYoAp"
      }
    },
    {
      "cell_type": "markdown",
      "source": [
        "##### 3. Will the gained insights help creating a positive business impact? \n",
        "Are there any insights that lead to negative growth? Justify with specific reason."
      ],
      "metadata": {
        "id": "RoGjAbkUYoAp"
      }
    },
    {
      "cell_type": "markdown",
      "source": [
        "Answer Here"
      ],
      "metadata": {
        "id": "zfJ8IqMcYoAp"
      }
    },
    {
      "cell_type": "markdown",
      "source": [
        "#### Chart - 4: Effect of Email Campaign Type"
      ],
      "metadata": {
        "id": "4Of9eVA-YrdM"
      }
    },
    {
      "cell_type": "code",
      "source": [
        "#pie chart for distribution of each email campaign type\n",
        "email_df['Email_Campaign_Type'].value_counts().plot(kind='pie',\n",
        "                              figsize=(15,6),\n",
        "                               autopct=\"%1.1f%%\",\n",
        "                               startangle=90,\n",
        "                               shadow=True,\n",
        "                               labels=['Type 2','Type 3', 'Type 1'],\n",
        "                              #  colors=['skyblue','red','green'],\n",
        "                               explode=[0,0,0]\n",
        "                              );"
      ],
      "metadata": {
        "id": "irlUoxc8YrdO"
      },
      "execution_count": null,
      "outputs": []
    },
    {
      "cell_type": "code",
      "source": [
        "#bar plot for understanding how email status is affected by campign type \n",
        "plt.figure(figsize = (10,10))\n",
        "ax = sns.countplot(x=email_df['Email_Campaign_Type'], hue=email_df['Email_Status'], palette='viridis')\n",
        "unique = len([x for x in email_df['Email_Campaign_Type'].unique()])\n",
        "bars = ax.patches\n",
        "for i in range(unique):\n",
        "    catbars=bars[i:][::unique]\n",
        "    #get height\n",
        "    total = sum([x.get_height() for x in catbars])\n",
        "    #print percentage\n",
        "    for bar in catbars:\n",
        "      ax.text(bar.get_x()+bar.get_width()/2.,\n",
        "                  bar.get_height(),\n",
        "                  f'{bar.get_height()/total:.0%}',\n",
        "                  ha=\"center\",va=\"bottom\")"
      ],
      "metadata": {
        "id": "FxoqCNAT3R4u"
      },
      "execution_count": null,
      "outputs": []
    },
    {
      "cell_type": "markdown",
      "source": [
        "##### 1. Why did you pick the specific chart?"
      ],
      "metadata": {
        "id": "iky9q4vBYrdO"
      }
    },
    {
      "cell_type": "markdown",
      "source": [
        "Answer Here."
      ],
      "metadata": {
        "id": "aJRCwT6DYrdO"
      }
    },
    {
      "cell_type": "markdown",
      "source": [
        "##### 2. What is/are the insight(s) found from the chart?"
      ],
      "metadata": {
        "id": "F6T5p64dYrdO"
      }
    },
    {
      "cell_type": "markdown",
      "source": [
        "Answer Here"
      ],
      "metadata": {
        "id": "Xx8WAJvtYrdO"
      }
    },
    {
      "cell_type": "markdown",
      "source": [
        "##### 3. Will the gained insights help creating a positive business impact? \n",
        "Are there any insights that lead to negative growth? Justify with specific reason."
      ],
      "metadata": {
        "id": "y-Ehk30pYrdP"
      }
    },
    {
      "cell_type": "markdown",
      "source": [
        "Answer Here"
      ],
      "metadata": {
        "id": "jLNxxz7MYrdP"
      }
    },
    {
      "cell_type": "markdown",
      "source": [
        "#### Chart - 5: Location with most Email Acknowledged"
      ],
      "metadata": {
        "id": "bamQiAODYuh1"
      }
    },
    {
      "cell_type": "code",
      "source": [],
      "metadata": {
        "id": "TIJwrbroYuh3"
      },
      "execution_count": null,
      "outputs": []
    },
    {
      "cell_type": "code",
      "source": [
        "#pie chart for distribution of each email campaign type\n",
        "email_df['Customer_Location'].value_counts().plot(kind='pie',\n",
        "                              figsize=(15,6),\n",
        "                               autopct=\"%1.1f%%\",\n",
        "                               startangle=90,\n",
        "                               shadow=True,\n",
        "                               labels=['G','E', 'D','C','F','B','A'],\n",
        "                               colors=['skyblue','red','green','violet','yellow','brown','cyan','magenta'],\n",
        "                               explode=[0.01,0.01,0.01,0.01,0.01,0.3,0.01]\n",
        "                              );\n"
      ],
      "metadata": {
        "id": "OQyC2dhiW-D8"
      },
      "execution_count": null,
      "outputs": []
    },
    {
      "cell_type": "code",
      "source": [
        "#based on location identifying how email status changed\n",
        "plt.figure(figsize = (10,10))\n",
        "ax = sns.countplot(x=email_df['Email_Status'], hue=email_df['Customer_Location'], palette='viridis')\n",
        "plt.show()"
      ],
      "metadata": {
        "id": "tGaX1Ezgwr00"
      },
      "execution_count": null,
      "outputs": []
    },
    {
      "cell_type": "code",
      "source": [
        "#checking effect of location on other numerical features\n",
        "fig, axs = plt.subplots(3, 2,figsize=(35, 35))\n",
        "# j and k is for iterating through axis in subplot\n",
        "j=0\n",
        "k=-1\n",
        "for value in num_feature:\n",
        "# Updating j and k for plotting on subplot  \n",
        "  k+=1\n",
        "  if k>1:\n",
        "    k=0\n",
        "    j+=1\n",
        "\n",
        "  sns.barplot(data = email_df, x = 'Email_Status',y = value, hue = 'Customer_Location', ax=axs[j, k],palette='viridis')\n",
        "  axs[j,k].set(title = f'Graph between {value} and Email Status')"
      ],
      "metadata": {
        "id": "OEsaxTeOxZcl"
      },
      "execution_count": null,
      "outputs": []
    },
    {
      "cell_type": "markdown",
      "source": [
        "##### 1. Why did you pick the specific chart?"
      ],
      "metadata": {
        "id": "QHF8YVU7Yuh3"
      }
    },
    {
      "cell_type": "markdown",
      "source": [
        "Answer Here."
      ],
      "metadata": {
        "id": "dcxuIMRPYuh3"
      }
    },
    {
      "cell_type": "markdown",
      "source": [
        "##### 2. What is/are the insight(s) found from the chart?"
      ],
      "metadata": {
        "id": "GwzvFGzlYuh3"
      }
    },
    {
      "cell_type": "markdown",
      "source": [
        "Answer Here"
      ],
      "metadata": {
        "id": "uyqkiB8YYuh3"
      }
    },
    {
      "cell_type": "markdown",
      "source": [
        "##### 3. Will the gained insights help creating a positive business impact? \n",
        "Are there any insights that lead to negative growth? Justify with specific reason."
      ],
      "metadata": {
        "id": "qYpmQ266Yuh3"
      }
    },
    {
      "cell_type": "markdown",
      "source": [
        "Answer Here"
      ],
      "metadata": {
        "id": "_WtzZ_hCYuh4"
      }
    },
    {
      "cell_type": "markdown",
      "source": [
        "#### Chart - 6: Effect of Time Email was sent"
      ],
      "metadata": {
        "id": "OH-pJp9IphqM"
      }
    },
    {
      "cell_type": "code",
      "source": [
        "# Chart - 6 visualization code"
      ],
      "metadata": {
        "id": "kuRf4wtuphqN"
      },
      "execution_count": null,
      "outputs": []
    },
    {
      "cell_type": "code",
      "source": [
        "#pie chart for distribution of email based on time period\n",
        "email_df['Time_Email_sent_Category'].value_counts().plot(kind='pie',\n",
        "                              figsize=(15,6),\n",
        "                               autopct=\"%1.1f%%\",\n",
        "                               startangle=90,\n",
        "                               shadow=True,\n",
        "                               labels=['Noon','Morning', 'Night'],\n",
        "                               colors=['blue','darkgreen','grey'],\n",
        "                               explode=[0.01,0.01,0.01]\n",
        "                              );"
      ],
      "metadata": {
        "id": "HdmBAU-qpzyQ"
      },
      "execution_count": null,
      "outputs": []
    },
    {
      "cell_type": "code",
      "source": [
        "#bar plot for understanding how email status is affected by Time_Email_sent\n",
        "plt.figure(figsize = (10,10))\n",
        "ax = sns.countplot(x=email_df['Email_Status'], hue=email_df['Time_Email_sent_Category'], palette='viridis')\n",
        "unique = len([x for x in email_df['Email_Status'].unique()])\n",
        "bars = ax.patches\n",
        "for i in range(unique):\n",
        "    catbars=bars[i:][::unique]\n",
        "    #get height\n",
        "    total = sum([x.get_height() for x in catbars])\n",
        "    #print percentage\n",
        "    for bar in catbars:\n",
        "      ax.text(bar.get_x()+bar.get_width()/2.,\n",
        "                  bar.get_height(),\n",
        "                  f'{bar.get_height()/total:.0%}',\n",
        "                  ha=\"center\",va=\"bottom\")"
      ],
      "metadata": {
        "id": "TDbsz29sWRNb"
      },
      "execution_count": null,
      "outputs": []
    },
    {
      "cell_type": "markdown",
      "source": [
        "##### 1. Why did you pick the specific chart?"
      ],
      "metadata": {
        "id": "bbFf2-_FphqN"
      }
    },
    {
      "cell_type": "markdown",
      "source": [
        "Answer Here."
      ],
      "metadata": {
        "id": "loh7H2nzphqN"
      }
    },
    {
      "cell_type": "markdown",
      "source": [
        "##### 2. What is/are the insight(s) found from the chart?"
      ],
      "metadata": {
        "id": "_ouA3fa0phqN"
      }
    },
    {
      "cell_type": "markdown",
      "source": [
        "Answer Here"
      ],
      "metadata": {
        "id": "VECbqPI7phqN"
      }
    },
    {
      "cell_type": "markdown",
      "source": [
        "##### 3. Will the gained insights help creating a positive business impact? \n",
        "Are there any insights that lead to negative growth? Justify with specific reason."
      ],
      "metadata": {
        "id": "Seke61FWphqN"
      }
    },
    {
      "cell_type": "markdown",
      "source": [
        "Answer Here"
      ],
      "metadata": {
        "id": "DW4_bGpfphqN"
      }
    },
    {
      "cell_type": "markdown",
      "source": [
        "#### Chart - 7: continuous variables through boxplots"
      ],
      "metadata": {
        "id": "PIIx-8_IphqN"
      }
    },
    {
      "cell_type": "code",
      "source": [
        "#continuous variables through boxplots\n",
        "fig, axs = plt.subplots(3, 2,figsize=(35, 35))\n",
        "# j and k is for iterating through axis in subplot\n",
        "j=0\n",
        "k=-1\n",
        "for value in num_feature:\n",
        "# Updating j and k for plotting on subplot  \n",
        "  k+=1\n",
        "  if k>1:\n",
        "    k=0\n",
        "    j+=1\n",
        "\n",
        "  sns.boxplot(x=email_df['Email_Status'], y= email_df[value], ax=axs[j, k],palette='viridis')\n",
        "plt.show()\n"
      ],
      "metadata": {
        "id": "lqAIGUfyphqO"
      },
      "execution_count": null,
      "outputs": []
    },
    {
      "cell_type": "markdown",
      "source": [
        "##### 1. Why did you pick the specific chart?"
      ],
      "metadata": {
        "id": "t27r6nlMphqO"
      }
    },
    {
      "cell_type": "markdown",
      "source": [
        "Answer Here."
      ],
      "metadata": {
        "id": "iv6ro40sphqO"
      }
    },
    {
      "cell_type": "markdown",
      "source": [
        "##### 2. What is/are the insight(s) found from the chart?"
      ],
      "metadata": {
        "id": "r2jJGEOYphqO"
      }
    },
    {
      "cell_type": "markdown",
      "metadata": {
        "id": "b4OCZ97hiRZU"
      },
      "source": [
        "**Observation:**\n",
        "\n",
        "* In the subject hotness score, median of ignored emails was around 1 with a few outliers. Acknowledged emails has the most outliers. It is observed that the Subject_Hotness_Score for read and acknowledged emails are much lower.\n",
        "\n",
        "\n",
        "* Analyzing total past communications, we can see that the more the number of previous emails, the more it leads to read and acknowledged emails. This is just about making connection with your customers.\n",
        "\n",
        "* The more the words in an email, the more it has a tendency to get ignored. Too lengthy emails are getting ignored.\n",
        "\n",
        "* The median is kind of similar in all of the three cases in total links feature with a number of outliers.\n",
        "\n",
        "* More images were there in ignored emails.\n",
        "\n",
        "* There are considerable number of outliers in Subject_Hotness_Score, Total_Links and Total_Images."
      ]
    },
    {
      "cell_type": "markdown",
      "source": [
        "##### 3. Will the gained insights help creating a positive business impact? \n",
        "Are there any insights that lead to negative growth? Justify with specific reason."
      ],
      "metadata": {
        "id": "b0JNsNcRphqO"
      }
    },
    {
      "cell_type": "markdown",
      "source": [
        "Answer Here"
      ],
      "metadata": {
        "id": "xvSq8iUTphqO"
      }
    },
    {
      "cell_type": "markdown",
      "source": [
        "#### Chart - 8: Distribution of Total Past Communication w.r.t Email Status"
      ],
      "metadata": {
        "id": "BZR9WyysphqO"
      }
    },
    {
      "cell_type": "code",
      "source": [
        "ax = sns.displot(x='Total_Past_Communications', hue = 'Email_Status', data = email_df, \n",
        "            kind = 'kde', height=7, aspect=2, multiple='stack', palette='viridis')\n",
        "\n",
        "plt.title('Distribution of Total Past Communications with respect to Email Status')\n",
        "plt.xlabel('Total_Past_Communications')\n",
        "plt.show()"
      ],
      "metadata": {
        "id": "TdPTWpAVphqO"
      },
      "execution_count": null,
      "outputs": []
    },
    {
      "cell_type": "markdown",
      "source": [
        "##### 1. Why did you pick the specific chart?"
      ],
      "metadata": {
        "id": "jj7wYXLtphqO"
      }
    },
    {
      "cell_type": "markdown",
      "source": [
        "Answer Here."
      ],
      "metadata": {
        "id": "Ob8u6rCTphqO"
      }
    },
    {
      "cell_type": "markdown",
      "source": [
        "##### 2. What is/are the insight(s) found from the chart?"
      ],
      "metadata": {
        "id": "eZrbJ2SmphqO"
      }
    },
    {
      "cell_type": "markdown",
      "source": [
        "Answer Here"
      ],
      "metadata": {
        "id": "mZtgC_hjphqO"
      }
    },
    {
      "cell_type": "markdown",
      "source": [
        "##### 3. Will the gained insights help creating a positive business impact? \n",
        "Are there any insights that lead to negative growth? Justify with specific reason."
      ],
      "metadata": {
        "id": "rFu4xreNphqO"
      }
    },
    {
      "cell_type": "markdown",
      "source": [
        "Answer Here"
      ],
      "metadata": {
        "id": "ey_0qi68phqO"
      }
    },
    {
      "cell_type": "markdown",
      "source": [
        "#### Chart - 9"
      ],
      "metadata": {
        "id": "YJ55k-q6phqO"
      }
    },
    {
      "cell_type": "code",
      "source": [
        "# Chart - 9 visualization code"
      ],
      "metadata": {
        "id": "B2aS4O1ophqO"
      },
      "execution_count": null,
      "outputs": []
    },
    {
      "cell_type": "markdown",
      "source": [
        "##### 1. Why did you pick the specific chart?"
      ],
      "metadata": {
        "id": "gCFgpxoyphqP"
      }
    },
    {
      "cell_type": "markdown",
      "source": [
        "Answer Here."
      ],
      "metadata": {
        "id": "TVxDimi2phqP"
      }
    },
    {
      "cell_type": "markdown",
      "source": [
        "##### 2. What is/are the insight(s) found from the chart?"
      ],
      "metadata": {
        "id": "OVtJsKN_phqQ"
      }
    },
    {
      "cell_type": "markdown",
      "source": [
        "Answer Here"
      ],
      "metadata": {
        "id": "ngGi97qjphqQ"
      }
    },
    {
      "cell_type": "markdown",
      "source": [
        "##### 3. Will the gained insights help creating a positive business impact? \n",
        "Are there any insights that lead to negative growth? Justify with specific reason."
      ],
      "metadata": {
        "id": "lssrdh5qphqQ"
      }
    },
    {
      "cell_type": "markdown",
      "source": [
        "Answer Here"
      ],
      "metadata": {
        "id": "tBpY5ekJphqQ"
      }
    },
    {
      "cell_type": "markdown",
      "source": [
        "#### Chart - 10"
      ],
      "metadata": {
        "id": "U2RJ9gkRphqQ"
      }
    },
    {
      "cell_type": "code",
      "source": [
        "# Chart - 10 visualization code"
      ],
      "metadata": {
        "id": "GM7a4YP4phqQ"
      },
      "execution_count": null,
      "outputs": []
    },
    {
      "cell_type": "markdown",
      "source": [
        "##### 1. Why did you pick the specific chart?"
      ],
      "metadata": {
        "id": "1M8mcRywphqQ"
      }
    },
    {
      "cell_type": "markdown",
      "source": [
        "Answer Here."
      ],
      "metadata": {
        "id": "8agQvks0phqQ"
      }
    },
    {
      "cell_type": "markdown",
      "source": [
        "##### 2. What is/are the insight(s) found from the chart?"
      ],
      "metadata": {
        "id": "tgIPom80phqQ"
      }
    },
    {
      "cell_type": "markdown",
      "source": [
        "Answer Here"
      ],
      "metadata": {
        "id": "Qp13pnNzphqQ"
      }
    },
    {
      "cell_type": "markdown",
      "source": [
        "##### 3. Will the gained insights help creating a positive business impact? \n",
        "Are there any insights that lead to negative growth? Justify with specific reason."
      ],
      "metadata": {
        "id": "JMzcOPDDphqR"
      }
    },
    {
      "cell_type": "markdown",
      "source": [
        "Answer Here"
      ],
      "metadata": {
        "id": "R4Ka1PC2phqR"
      }
    },
    {
      "cell_type": "markdown",
      "source": [
        "#### Chart - 11"
      ],
      "metadata": {
        "id": "x-EpHcCOp1ci"
      }
    },
    {
      "cell_type": "code",
      "source": [
        "# Chart - 11 visualization code"
      ],
      "metadata": {
        "id": "mAQTIvtqp1cj"
      },
      "execution_count": null,
      "outputs": []
    },
    {
      "cell_type": "markdown",
      "source": [
        "##### 1. Why did you pick the specific chart?"
      ],
      "metadata": {
        "id": "X_VqEhTip1ck"
      }
    },
    {
      "cell_type": "markdown",
      "source": [
        "Answer Here."
      ],
      "metadata": {
        "id": "-vsMzt_np1ck"
      }
    },
    {
      "cell_type": "markdown",
      "source": [
        "##### 2. What is/are the insight(s) found from the chart?"
      ],
      "metadata": {
        "id": "8zGJKyg5p1ck"
      }
    },
    {
      "cell_type": "markdown",
      "source": [
        "Answer Here"
      ],
      "metadata": {
        "id": "ZYdMsrqVp1ck"
      }
    },
    {
      "cell_type": "markdown",
      "source": [
        "##### 3. Will the gained insights help creating a positive business impact? \n",
        "Are there any insights that lead to negative growth? Justify with specific reason."
      ],
      "metadata": {
        "id": "PVzmfK_Ep1ck"
      }
    },
    {
      "cell_type": "markdown",
      "source": [
        "Answer Here"
      ],
      "metadata": {
        "id": "druuKYZpp1ck"
      }
    },
    {
      "cell_type": "markdown",
      "source": [
        "#### Chart - 12"
      ],
      "metadata": {
        "id": "n3dbpmDWp1ck"
      }
    },
    {
      "cell_type": "code",
      "source": [
        "# Chart - 12 visualization code"
      ],
      "metadata": {
        "id": "bwevp1tKp1ck"
      },
      "execution_count": null,
      "outputs": []
    },
    {
      "cell_type": "markdown",
      "source": [
        "##### 1. Why did you pick the specific chart?"
      ],
      "metadata": {
        "id": "ylSl6qgtp1ck"
      }
    },
    {
      "cell_type": "markdown",
      "source": [
        "Answer Here."
      ],
      "metadata": {
        "id": "m2xqNkiQp1ck"
      }
    },
    {
      "cell_type": "markdown",
      "source": [
        "##### 2. What is/are the insight(s) found from the chart?"
      ],
      "metadata": {
        "id": "ZWILFDl5p1ck"
      }
    },
    {
      "cell_type": "markdown",
      "source": [
        "Answer Here"
      ],
      "metadata": {
        "id": "x-lUsV2mp1ck"
      }
    },
    {
      "cell_type": "markdown",
      "source": [
        "##### 3. Will the gained insights help creating a positive business impact? \n",
        "Are there any insights that lead to negative growth? Justify with specific reason."
      ],
      "metadata": {
        "id": "M7G43BXep1ck"
      }
    },
    {
      "cell_type": "markdown",
      "source": [
        "Answer Here"
      ],
      "metadata": {
        "id": "5wwDJXsLp1cl"
      }
    },
    {
      "cell_type": "markdown",
      "source": [
        "#### Chart - 13"
      ],
      "metadata": {
        "id": "Ag9LCva-p1cl"
      }
    },
    {
      "cell_type": "code",
      "source": [
        "# Chart - 13 visualization code"
      ],
      "metadata": {
        "id": "EUfxeq9-p1cl"
      },
      "execution_count": null,
      "outputs": []
    },
    {
      "cell_type": "markdown",
      "source": [
        "##### 1. Why did you pick the specific chart?"
      ],
      "metadata": {
        "id": "E6MkPsBcp1cl"
      }
    },
    {
      "cell_type": "markdown",
      "source": [
        "Answer Here."
      ],
      "metadata": {
        "id": "V22bRsFWp1cl"
      }
    },
    {
      "cell_type": "markdown",
      "source": [
        "##### 2. What is/are the insight(s) found from the chart?"
      ],
      "metadata": {
        "id": "2cELzS2fp1cl"
      }
    },
    {
      "cell_type": "markdown",
      "source": [
        "Answer Here"
      ],
      "metadata": {
        "id": "ozQPc2_Ip1cl"
      }
    },
    {
      "cell_type": "markdown",
      "source": [
        "##### 3. Will the gained insights help creating a positive business impact? \n",
        "Are there any insights that lead to negative growth? Justify with specific reason."
      ],
      "metadata": {
        "id": "3MPXvC8up1cl"
      }
    },
    {
      "cell_type": "markdown",
      "source": [
        "Answer Here"
      ],
      "metadata": {
        "id": "GL8l1tdLp1cl"
      }
    },
    {
      "cell_type": "markdown",
      "source": [
        "#### Chart - 14 - Correlation Heatmap"
      ],
      "metadata": {
        "id": "NC_X3p0fY2L0"
      }
    },
    {
      "cell_type": "code",
      "source": [
        "# Correlation Heatmap visualization code\n",
        "email_df"
      ],
      "metadata": {
        "id": "xyC9zolEZNRQ"
      },
      "execution_count": null,
      "outputs": []
    },
    {
      "cell_type": "code",
      "execution_count": null,
      "metadata": {
        "id": "Cijvg-xjDXkO"
      },
      "outputs": [],
      "source": [
        "#dropping columns\n",
        "columns_to_drop = ['Email_ID','Customer_Location']\n",
        "df = email_df.drop(columns_to_drop,axis=1)"
      ]
    },
    {
      "cell_type": "code",
      "execution_count": null,
      "metadata": {
        "id": "DGDokflI4fvH"
      },
      "outputs": [],
      "source": [
        "plt.figure(figsize = (20,16))\n",
        "sns.heatmap(df.corr(), annot=True, cmap = 'Blues')"
      ]
    },
    {
      "cell_type": "markdown",
      "source": [
        "##### 1. Why did you pick the specific chart?"
      ],
      "metadata": {
        "id": "UV0SzAkaZNRQ"
      }
    },
    {
      "cell_type": "markdown",
      "source": [
        "Answer Here."
      ],
      "metadata": {
        "id": "DVPuT8LYZNRQ"
      }
    },
    {
      "cell_type": "markdown",
      "source": [
        "##### 2. What is/are the insight(s) found from the chart?"
      ],
      "metadata": {
        "id": "YPEH6qLeZNRQ"
      }
    },
    {
      "cell_type": "markdown",
      "metadata": {
        "id": "2UCJYzOg8NEk"
      },
      "source": [
        "**Observation:**\n",
        "Correlation matrix justifies our earlier hypotheses. Email Campaign Type and Total past communication shows positive correlation with emails being read and acknowledged.\n",
        "Word Count and Subject Hotness score are the most negatives amongst other. We can see multicollinearity involved in Email Campaign Type, Total past communication and Total links, Total Images among others and we will have to deal with it.\n"
      ]
    },
    {
      "cell_type": "markdown",
      "source": [
        "#### Chart - 15 - Pair Plot "
      ],
      "metadata": {
        "id": "q29F0dvdveiT"
      }
    },
    {
      "cell_type": "code",
      "source": [
        "# Pair Plot visualization code\n",
        "sns.pairplot(df, hue=\"Email_Status\", palette='viridis');"
      ],
      "metadata": {
        "id": "o58-TEIhveiU"
      },
      "execution_count": null,
      "outputs": []
    },
    {
      "cell_type": "markdown",
      "source": [
        "##### 1. Why did you pick the specific chart?"
      ],
      "metadata": {
        "id": "EXh0U9oCveiU"
      }
    },
    {
      "cell_type": "markdown",
      "source": [
        "Answer Here."
      ],
      "metadata": {
        "id": "eMmPjTByveiU"
      }
    },
    {
      "cell_type": "markdown",
      "source": [
        "##### 2. What is/are the insight(s) found from the chart?"
      ],
      "metadata": {
        "id": "22aHeOlLveiV"
      }
    },
    {
      "cell_type": "markdown",
      "source": [
        "Answer Here"
      ],
      "metadata": {
        "id": "uPQ8RGwHveiV"
      }
    },
    {
      "cell_type": "markdown",
      "source": [
        "## ***5. Hypothesis Testing***"
      ],
      "metadata": {
        "id": "g-ATYxFrGrvw"
      }
    },
    {
      "cell_type": "markdown",
      "source": [
        "### Based on your chart experiments, define three hypothetical statements from the dataset. In the next three questions, perform hypothesis testing to obtain final conclusion about the statements through your code and statistical testing."
      ],
      "metadata": {
        "id": "Yfr_Vlr8HBkt"
      }
    },
    {
      "cell_type": "markdown",
      "source": [
        "Answer Here."
      ],
      "metadata": {
        "id": "-7MS06SUHkB-"
      }
    },
    {
      "cell_type": "markdown",
      "source": [
        "### Hypothetical Statement - 1"
      ],
      "metadata": {
        "id": "8yEUt7NnHlrM"
      }
    },
    {
      "cell_type": "markdown",
      "source": [
        "#### 1. State Your research hypothesis as a null hypothesis and alternate hypothesis."
      ],
      "metadata": {
        "id": "tEA2Xm5dHt1r"
      }
    },
    {
      "cell_type": "markdown",
      "source": [
        "Answer Here."
      ],
      "metadata": {
        "id": "HI9ZP0laH0D-"
      }
    },
    {
      "cell_type": "markdown",
      "source": [
        "#### 2. Perform an appropriate statistical test."
      ],
      "metadata": {
        "id": "I79__PHVH19G"
      }
    },
    {
      "cell_type": "code",
      "source": [
        "# Perform Statistical Test to obtain P-Value"
      ],
      "metadata": {
        "id": "oZrfquKtyian"
      },
      "execution_count": null,
      "outputs": []
    },
    {
      "cell_type": "markdown",
      "source": [
        "##### Which statistical test have you done to obtain P-Value?"
      ],
      "metadata": {
        "id": "Ou-I18pAyIpj"
      }
    },
    {
      "cell_type": "markdown",
      "source": [
        "Answer Here."
      ],
      "metadata": {
        "id": "s2U0kk00ygSB"
      }
    },
    {
      "cell_type": "markdown",
      "source": [
        "##### Why did you choose the specific statistical test?"
      ],
      "metadata": {
        "id": "fF3858GYyt-u"
      }
    },
    {
      "cell_type": "markdown",
      "source": [
        "Answer Here."
      ],
      "metadata": {
        "id": "HO4K0gP5y3B4"
      }
    },
    {
      "cell_type": "markdown",
      "source": [
        "### Hypothetical Statement - 2"
      ],
      "metadata": {
        "id": "4_0_7-oCpUZd"
      }
    },
    {
      "cell_type": "markdown",
      "source": [
        "#### 1. State Your research hypothesis as a null hypothesis and alternate hypothesis."
      ],
      "metadata": {
        "id": "hwyV_J3ipUZe"
      }
    },
    {
      "cell_type": "markdown",
      "source": [
        "Answer Here."
      ],
      "metadata": {
        "id": "FnpLGJ-4pUZe"
      }
    },
    {
      "cell_type": "markdown",
      "source": [
        "#### 2. Perform an appropriate statistical test."
      ],
      "metadata": {
        "id": "3yB-zSqbpUZe"
      }
    },
    {
      "cell_type": "code",
      "source": [
        "# Perform Statistical Test to obtain P-Value"
      ],
      "metadata": {
        "id": "sWxdNTXNpUZe"
      },
      "execution_count": null,
      "outputs": []
    },
    {
      "cell_type": "markdown",
      "source": [
        "##### Which statistical test have you done to obtain P-Value?"
      ],
      "metadata": {
        "id": "dEUvejAfpUZe"
      }
    },
    {
      "cell_type": "markdown",
      "source": [
        "Answer Here."
      ],
      "metadata": {
        "id": "oLDrPz7HpUZf"
      }
    },
    {
      "cell_type": "markdown",
      "source": [
        "##### Why did you choose the specific statistical test?"
      ],
      "metadata": {
        "id": "Fd15vwWVpUZf"
      }
    },
    {
      "cell_type": "markdown",
      "source": [
        "Answer Here."
      ],
      "metadata": {
        "id": "4xOGYyiBpUZf"
      }
    },
    {
      "cell_type": "markdown",
      "source": [
        "### Hypothetical Statement - 3"
      ],
      "metadata": {
        "id": "bn_IUdTipZyH"
      }
    },
    {
      "cell_type": "markdown",
      "source": [
        "#### 1. State Your research hypothesis as a null hypothesis and alternate hypothesis."
      ],
      "metadata": {
        "id": "49K5P_iCpZyH"
      }
    },
    {
      "cell_type": "markdown",
      "source": [
        "Answer Here."
      ],
      "metadata": {
        "id": "7gWI5rT9pZyH"
      }
    },
    {
      "cell_type": "markdown",
      "source": [
        "#### 2. Perform an appropriate statistical test."
      ],
      "metadata": {
        "id": "Nff-vKELpZyI"
      }
    },
    {
      "cell_type": "code",
      "source": [
        "# Perform Statistical Test to obtain P-Value"
      ],
      "metadata": {
        "id": "s6AnJQjtpZyI"
      },
      "execution_count": null,
      "outputs": []
    },
    {
      "cell_type": "markdown",
      "source": [
        "##### Which statistical test have you done to obtain P-Value?"
      ],
      "metadata": {
        "id": "kLW572S8pZyI"
      }
    },
    {
      "cell_type": "markdown",
      "source": [
        "Answer Here."
      ],
      "metadata": {
        "id": "ytWJ8v15pZyI"
      }
    },
    {
      "cell_type": "markdown",
      "source": [
        "##### Why did you choose the specific statistical test?"
      ],
      "metadata": {
        "id": "dWbDXHzopZyI"
      }
    },
    {
      "cell_type": "markdown",
      "source": [
        "Answer Here."
      ],
      "metadata": {
        "id": "M99G98V6pZyI"
      }
    },
    {
      "cell_type": "markdown",
      "source": [
        "## ***6. Feature Engineering & Data Pre-processing***"
      ],
      "metadata": {
        "id": "yLjJCtPM0KBk"
      }
    },
    {
      "cell_type": "markdown",
      "source": [
        "### 1. Handling Missing Values"
      ],
      "metadata": {
        "id": "xiyOF9F70UgQ"
      }
    },
    {
      "cell_type": "code",
      "source": [
        "# Handling Missing Values & Missing Value Imputation"
      ],
      "metadata": {
        "id": "iRsAHk1K0fpS"
      },
      "execution_count": null,
      "outputs": []
    },
    {
      "cell_type": "markdown",
      "source": [
        "#### What all missing value imputation techniques have you used and why did you use those techniques?"
      ],
      "metadata": {
        "id": "7wuGOrhz0itI"
      }
    },
    {
      "cell_type": "markdown",
      "source": [
        "Answer Here."
      ],
      "metadata": {
        "id": "1ixusLtI0pqI"
      }
    },
    {
      "cell_type": "markdown",
      "source": [
        "### 2. Handling Outliers"
      ],
      "metadata": {
        "id": "id1riN9m0vUs"
      }
    },
    {
      "cell_type": "code",
      "source": [
        "# Handling Outliers & Outlier treatments"
      ],
      "metadata": {
        "id": "M6w2CzZf04JK"
      },
      "execution_count": null,
      "outputs": []
    },
    {
      "cell_type": "markdown",
      "source": [
        "##### What all outlier treatment techniques have you used and why did you use those techniques?"
      ],
      "metadata": {
        "id": "578E2V7j08f6"
      }
    },
    {
      "cell_type": "markdown",
      "source": [
        "Answer Here."
      ],
      "metadata": {
        "id": "uGZz5OrT1HH-"
      }
    },
    {
      "cell_type": "markdown",
      "source": [
        "### 3. Categorical Encoding"
      ],
      "metadata": {
        "id": "89xtkJwZ18nB"
      }
    },
    {
      "cell_type": "code",
      "source": [
        "# Encode your categorical columns"
      ],
      "metadata": {
        "id": "21JmIYMG2hEo"
      },
      "execution_count": null,
      "outputs": []
    },
    {
      "cell_type": "markdown",
      "source": [
        "#### What all categorical encoding techniques have you used & why did you use those techniques?"
      ],
      "metadata": {
        "id": "67NQN5KX2AMe"
      }
    },
    {
      "cell_type": "markdown",
      "source": [
        "Answer Here."
      ],
      "metadata": {
        "id": "UDaue5h32n_G"
      }
    },
    {
      "cell_type": "markdown",
      "source": [
        "### 4. Textual Data Preprocessing \n",
        "(It's mandatory for textual dataset i.e., NLP, Sentiment Analysis, Text Clustering etc.)"
      ],
      "metadata": {
        "id": "Iwf50b-R2tYG"
      }
    },
    {
      "cell_type": "markdown",
      "source": [
        "#### 1. Expand Contraction"
      ],
      "metadata": {
        "id": "GMQiZwjn3iu7"
      }
    },
    {
      "cell_type": "code",
      "source": [
        "# Expand Contraction"
      ],
      "metadata": {
        "id": "PTouz10C3oNN"
      },
      "execution_count": null,
      "outputs": []
    },
    {
      "cell_type": "markdown",
      "source": [
        "#### 2. Lower Casing"
      ],
      "metadata": {
        "id": "WVIkgGqN3qsr"
      }
    },
    {
      "cell_type": "code",
      "source": [
        "# Lower Casing"
      ],
      "metadata": {
        "id": "88JnJ1jN3w7j"
      },
      "execution_count": null,
      "outputs": []
    },
    {
      "cell_type": "markdown",
      "source": [
        "#### 3. Removing Punctuations"
      ],
      "metadata": {
        "id": "XkPnILGE3zoT"
      }
    },
    {
      "cell_type": "code",
      "source": [
        "# Remove Punctuations"
      ],
      "metadata": {
        "id": "vqbBqNaA33c0"
      },
      "execution_count": null,
      "outputs": []
    },
    {
      "cell_type": "markdown",
      "source": [
        "#### 4. Removing URLs & Removing words and digits contain digits."
      ],
      "metadata": {
        "id": "Hlsf0x5436Go"
      }
    },
    {
      "cell_type": "code",
      "source": [
        "# Remove URLs & Remove words and digits contain digits"
      ],
      "metadata": {
        "id": "2sxKgKxu4Ip3"
      },
      "execution_count": null,
      "outputs": []
    },
    {
      "cell_type": "markdown",
      "source": [
        "#### 5. Removing Stopwords & Removing White spaces"
      ],
      "metadata": {
        "id": "mT9DMSJo4nBL"
      }
    },
    {
      "cell_type": "code",
      "source": [
        "# Remove Stopwords"
      ],
      "metadata": {
        "id": "T2LSJh154s8W"
      },
      "execution_count": null,
      "outputs": []
    },
    {
      "cell_type": "code",
      "source": [
        "# Remove White spaces"
      ],
      "metadata": {
        "id": "EgLJGffy4vm0"
      },
      "execution_count": null,
      "outputs": []
    },
    {
      "cell_type": "markdown",
      "source": [
        "#### 6. Rephrase Text"
      ],
      "metadata": {
        "id": "c49ITxTc407N"
      }
    },
    {
      "cell_type": "code",
      "source": [
        "# Rephrase Text"
      ],
      "metadata": {
        "id": "foqY80Qu48N2"
      },
      "execution_count": null,
      "outputs": []
    },
    {
      "cell_type": "markdown",
      "source": [
        "#### 7. Tokenization"
      ],
      "metadata": {
        "id": "OeJFEK0N496M"
      }
    },
    {
      "cell_type": "code",
      "source": [
        "# Tokenization"
      ],
      "metadata": {
        "id": "ijx1rUOS5CUU"
      },
      "execution_count": null,
      "outputs": []
    },
    {
      "cell_type": "markdown",
      "source": [
        "#### 8. Text Normalization"
      ],
      "metadata": {
        "id": "9ExmJH0g5HBk"
      }
    },
    {
      "cell_type": "code",
      "source": [
        "# Normalizing Text (i.e., Stemming, Lemmatization etc.)"
      ],
      "metadata": {
        "id": "AIJ1a-Zc5PY8"
      },
      "execution_count": null,
      "outputs": []
    },
    {
      "cell_type": "markdown",
      "source": [
        "##### Which text normalization technique have you used and why?"
      ],
      "metadata": {
        "id": "cJNqERVU536h"
      }
    },
    {
      "cell_type": "markdown",
      "source": [
        "Answer Here."
      ],
      "metadata": {
        "id": "Z9jKVxE06BC1"
      }
    },
    {
      "cell_type": "markdown",
      "source": [
        "#### 9. Part of speech tagging"
      ],
      "metadata": {
        "id": "k5UmGsbsOxih"
      }
    },
    {
      "cell_type": "code",
      "source": [
        "# POS Taging"
      ],
      "metadata": {
        "id": "btT3ZJBAO6Ik"
      },
      "execution_count": null,
      "outputs": []
    },
    {
      "cell_type": "markdown",
      "source": [
        "#### 10. Text Vectorization"
      ],
      "metadata": {
        "id": "T0VqWOYE6DLQ"
      }
    },
    {
      "cell_type": "code",
      "source": [
        "# Vectorizing Text"
      ],
      "metadata": {
        "id": "yBRtdhth6JDE"
      },
      "execution_count": null,
      "outputs": []
    },
    {
      "cell_type": "markdown",
      "source": [
        "##### Which text vectorization technique have you used and why?"
      ],
      "metadata": {
        "id": "qBMux9mC6MCf"
      }
    },
    {
      "cell_type": "markdown",
      "source": [
        "Answer Here."
      ],
      "metadata": {
        "id": "su2EnbCh6UKQ"
      }
    },
    {
      "cell_type": "markdown",
      "source": [
        "### 4. Feature Manipulation & Selection"
      ],
      "metadata": {
        "id": "-oLEiFgy-5Pf"
      }
    },
    {
      "cell_type": "markdown",
      "source": [
        "#### 1. Feature Manipulation"
      ],
      "metadata": {
        "id": "C74aWNz2AliB"
      }
    },
    {
      "cell_type": "code",
      "source": [
        "# Manipulate Features to minimize feature correlation and create new features"
      ],
      "metadata": {
        "id": "h1qC4yhBApWC"
      },
      "execution_count": null,
      "outputs": []
    },
    {
      "cell_type": "markdown",
      "source": [
        "#### 2. Feature Selection"
      ],
      "metadata": {
        "id": "2DejudWSA-a0"
      }
    },
    {
      "cell_type": "code",
      "source": [
        "# Select your features wisely to avoid overfitting"
      ],
      "metadata": {
        "id": "YLhe8UmaBCEE"
      },
      "execution_count": null,
      "outputs": []
    },
    {
      "cell_type": "markdown",
      "source": [
        "##### What all feature selection methods have you used  and why?"
      ],
      "metadata": {
        "id": "pEMng2IbBLp7"
      }
    },
    {
      "cell_type": "markdown",
      "source": [
        "Answer Here."
      ],
      "metadata": {
        "id": "rb2Lh6Z8BgGs"
      }
    },
    {
      "cell_type": "markdown",
      "source": [
        "##### Which all features you found important and why?"
      ],
      "metadata": {
        "id": "rAdphbQ9Bhjc"
      }
    },
    {
      "cell_type": "markdown",
      "source": [
        "Answer Here."
      ],
      "metadata": {
        "id": "fGgaEstsBnaf"
      }
    },
    {
      "cell_type": "markdown",
      "source": [
        "### 5. Data Transformation"
      ],
      "metadata": {
        "id": "TNVZ9zx19K6k"
      }
    },
    {
      "cell_type": "markdown",
      "source": [
        "#### Do you think that your data needs to be transformed? If yes, which transformation have you used. Explain Why?"
      ],
      "metadata": {
        "id": "nqoHp30x9hH9"
      }
    },
    {
      "cell_type": "code",
      "source": [
        "# Transform Your data"
      ],
      "metadata": {
        "id": "I6quWQ1T9rtH"
      },
      "execution_count": null,
      "outputs": []
    },
    {
      "cell_type": "markdown",
      "source": [
        "### 6. Data Scaling"
      ],
      "metadata": {
        "id": "rMDnDkt2B6du"
      }
    },
    {
      "cell_type": "code",
      "source": [
        "# Scaling your data"
      ],
      "metadata": {
        "id": "dL9LWpySC6x_"
      },
      "execution_count": null,
      "outputs": []
    },
    {
      "cell_type": "markdown",
      "source": [
        "##### Which method have you used to scale you data and why?"
      ],
      "metadata": {
        "id": "yiiVWRdJDDil"
      }
    },
    {
      "cell_type": "markdown",
      "source": [
        "### 7. Dimesionality Reduction"
      ],
      "metadata": {
        "id": "1UUpS68QDMuG"
      }
    },
    {
      "cell_type": "markdown",
      "source": [
        "##### Do you think that dimensionality reduction is needed? Explain Why?"
      ],
      "metadata": {
        "id": "kexQrXU-DjzY"
      }
    },
    {
      "cell_type": "markdown",
      "source": [
        "Answer Here."
      ],
      "metadata": {
        "id": "GGRlBsSGDtTQ"
      }
    },
    {
      "cell_type": "code",
      "source": [
        "# DImensionality Reduction (If needed)"
      ],
      "metadata": {
        "id": "kQfvxBBHDvCa"
      },
      "execution_count": null,
      "outputs": []
    },
    {
      "cell_type": "markdown",
      "source": [
        "##### Which dimensionality reduction technique have you used and why? (If dimensionality reduction done on dataset.)"
      ],
      "metadata": {
        "id": "T5CmagL3EC8N"
      }
    },
    {
      "cell_type": "markdown",
      "source": [
        "Answer Here."
      ],
      "metadata": {
        "id": "ZKr75IDuEM7t"
      }
    },
    {
      "cell_type": "markdown",
      "source": [
        "### 8. Data Splitting"
      ],
      "metadata": {
        "id": "BhH2vgX9EjGr"
      }
    },
    {
      "cell_type": "code",
      "source": [
        "# Split your data to train and test. Choose Splitting ratio wisely."
      ],
      "metadata": {
        "id": "0CTyd2UwEyNM"
      },
      "execution_count": null,
      "outputs": []
    },
    {
      "cell_type": "markdown",
      "source": [
        "##### What data splitting ratio have you used and why? "
      ],
      "metadata": {
        "id": "qjKvONjwE8ra"
      }
    },
    {
      "cell_type": "markdown",
      "source": [
        "Answer Here."
      ],
      "metadata": {
        "id": "Y2lJ8cobFDb_"
      }
    },
    {
      "cell_type": "markdown",
      "source": [
        "### 9. Handling Imbalanced Dataset"
      ],
      "metadata": {
        "id": "P1XJ9OREExlT"
      }
    },
    {
      "cell_type": "markdown",
      "source": [
        "##### Do you think the dataset is imbalanced? Explain Why."
      ],
      "metadata": {
        "id": "VFOzZv6IFROw"
      }
    },
    {
      "cell_type": "markdown",
      "source": [
        "Answer Here."
      ],
      "metadata": {
        "id": "GeKDIv7pFgcC"
      }
    },
    {
      "cell_type": "code",
      "source": [
        "# Handling Imbalanced Dataset (If needed)"
      ],
      "metadata": {
        "id": "nQsRhhZLFiDs"
      },
      "execution_count": null,
      "outputs": []
    },
    {
      "cell_type": "markdown",
      "source": [
        "##### What technique did you use to handle the imbalance dataset and why? (If needed to be balanced)"
      ],
      "metadata": {
        "id": "TIqpNgepFxVj"
      }
    },
    {
      "cell_type": "markdown",
      "source": [
        "Answer Here."
      ],
      "metadata": {
        "id": "qbet1HwdGDTz"
      }
    },
    {
      "cell_type": "markdown",
      "source": [
        "## ***7. ML Model Implementation***"
      ],
      "metadata": {
        "id": "VfCC591jGiD4"
      }
    },
    {
      "cell_type": "markdown",
      "source": [
        "### ML Model - 1"
      ],
      "metadata": {
        "id": "OB4l2ZhMeS1U"
      }
    },
    {
      "cell_type": "code",
      "source": [
        "# ML Model - 1 Implementation\n",
        "\n",
        "# Fit the Algorithm\n",
        "\n",
        "# Predict on the model"
      ],
      "metadata": {
        "id": "7ebyywQieS1U"
      },
      "execution_count": null,
      "outputs": []
    },
    {
      "cell_type": "markdown",
      "source": [
        "#### 1. Explain the ML Model used and it's performance using Evaluation metric Score Chart."
      ],
      "metadata": {
        "id": "ArJBuiUVfxKd"
      }
    },
    {
      "cell_type": "code",
      "source": [
        "# Visualizing evaluation Metric Score chart"
      ],
      "metadata": {
        "id": "rqD5ZohzfxKe"
      },
      "execution_count": null,
      "outputs": []
    },
    {
      "cell_type": "markdown",
      "source": [
        "#### 2. Cross- Validation & Hyperparameter Tuning"
      ],
      "metadata": {
        "id": "4qY1EAkEfxKe"
      }
    },
    {
      "cell_type": "code",
      "source": [
        "# ML Model - 1 Implementation with hyperparameter optimization techniques (i.e., GridSearch CV, RandomSearch CV, Bayesian Optimization etc.)\n",
        "\n",
        "# Fit the Algorithm\n",
        "\n",
        "# Predict on the model"
      ],
      "metadata": {
        "id": "Dy61ujd6fxKe"
      },
      "execution_count": null,
      "outputs": []
    },
    {
      "cell_type": "markdown",
      "source": [
        "##### Which hyperparameter optimization technique have you used and why?"
      ],
      "metadata": {
        "id": "PiV4Ypx8fxKe"
      }
    },
    {
      "cell_type": "markdown",
      "source": [
        "Answer Here."
      ],
      "metadata": {
        "id": "negyGRa7fxKf"
      }
    },
    {
      "cell_type": "markdown",
      "source": [
        "##### Have you seen any improvement? Note down the improvement with updates Evaluation metric Score Chart."
      ],
      "metadata": {
        "id": "TfvqoZmBfxKf"
      }
    },
    {
      "cell_type": "markdown",
      "source": [
        "Answer Here."
      ],
      "metadata": {
        "id": "OaLui8CcfxKf"
      }
    },
    {
      "cell_type": "markdown",
      "source": [
        "### ML Model - 2"
      ],
      "metadata": {
        "id": "dJ2tPlVmpsJ0"
      }
    },
    {
      "cell_type": "markdown",
      "source": [
        "#### 1. Explain the ML Model used and it's performance using Evaluation metric Score Chart."
      ],
      "metadata": {
        "id": "JWYfwnehpsJ1"
      }
    },
    {
      "cell_type": "code",
      "source": [
        "# Visualizing evaluation Metric Score chart"
      ],
      "metadata": {
        "id": "yEl-hgQWpsJ1"
      },
      "execution_count": null,
      "outputs": []
    },
    {
      "cell_type": "markdown",
      "source": [
        "#### 2. Cross- Validation & Hyperparameter Tuning"
      ],
      "metadata": {
        "id": "-jK_YjpMpsJ2"
      }
    },
    {
      "cell_type": "code",
      "source": [
        "# ML Model - 1 Implementation with hyperparameter optimization techniques (i.e., GridSearch CV, RandomSearch CV, Bayesian Optimization etc.)\n",
        "\n",
        "# Fit the Algorithm\n",
        "\n",
        "# Predict on the model"
      ],
      "metadata": {
        "id": "Dn0EOfS6psJ2"
      },
      "execution_count": null,
      "outputs": []
    },
    {
      "cell_type": "markdown",
      "source": [
        "##### Which hyperparameter optimization technique have you used and why?"
      ],
      "metadata": {
        "id": "HAih1iBOpsJ2"
      }
    },
    {
      "cell_type": "markdown",
      "source": [
        "Answer Here."
      ],
      "metadata": {
        "id": "9kBgjYcdpsJ2"
      }
    },
    {
      "cell_type": "markdown",
      "source": [
        "##### Have you seen any improvement? Note down the improvement with updates Evaluation metric Score Chart."
      ],
      "metadata": {
        "id": "zVGeBEFhpsJ2"
      }
    },
    {
      "cell_type": "markdown",
      "source": [
        "Answer Here."
      ],
      "metadata": {
        "id": "74yRdG6UpsJ3"
      }
    },
    {
      "cell_type": "markdown",
      "source": [
        "#### 3. Explain each evaluation metric's indication towards business and the business impact pf the ML model used."
      ],
      "metadata": {
        "id": "bmKjuQ-FpsJ3"
      }
    },
    {
      "cell_type": "markdown",
      "source": [
        "Answer Here."
      ],
      "metadata": {
        "id": "BDKtOrBQpsJ3"
      }
    },
    {
      "cell_type": "markdown",
      "source": [
        "### ML Model - 3"
      ],
      "metadata": {
        "id": "Fze-IPXLpx6K"
      }
    },
    {
      "cell_type": "code",
      "source": [
        "# ML Model - 3 Implementation\n",
        "\n",
        "# Fit the Algorithm\n",
        "\n",
        "# Predict on the model"
      ],
      "metadata": {
        "id": "FFrSXAtrpx6M"
      },
      "execution_count": null,
      "outputs": []
    },
    {
      "cell_type": "markdown",
      "source": [
        "#### 1. Explain the ML Model used and it's performance using Evaluation metric Score Chart."
      ],
      "metadata": {
        "id": "7AN1z2sKpx6M"
      }
    },
    {
      "cell_type": "code",
      "source": [
        "# Visualizing evaluation Metric Score chart"
      ],
      "metadata": {
        "id": "xIY4lxxGpx6M"
      },
      "execution_count": null,
      "outputs": []
    },
    {
      "cell_type": "markdown",
      "source": [
        "#### 2. Cross- Validation & Hyperparameter Tuning"
      ],
      "metadata": {
        "id": "9PIHJqyupx6M"
      }
    },
    {
      "cell_type": "code",
      "source": [
        "# ML Model - 3 Implementation with hyperparameter optimization techniques (i.e., GridSearch CV, RandomSearch CV, Bayesian Optimization etc.)\n",
        "\n",
        "# Fit the Algorithm\n",
        "\n",
        "# Predict on the model"
      ],
      "metadata": {
        "id": "eSVXuaSKpx6M"
      },
      "execution_count": null,
      "outputs": []
    },
    {
      "cell_type": "markdown",
      "source": [
        "##### Which hyperparameter optimization technique have you used and why?"
      ],
      "metadata": {
        "id": "_-qAgymDpx6N"
      }
    },
    {
      "cell_type": "markdown",
      "source": [
        "Answer Here."
      ],
      "metadata": {
        "id": "lQMffxkwpx6N"
      }
    },
    {
      "cell_type": "markdown",
      "source": [
        "##### Have you seen any improvement? Note down the improvement with updates Evaluation metric Score Chart."
      ],
      "metadata": {
        "id": "Z-hykwinpx6N"
      }
    },
    {
      "cell_type": "markdown",
      "source": [
        "Answer Here."
      ],
      "metadata": {
        "id": "MzVzZC6opx6N"
      }
    },
    {
      "cell_type": "markdown",
      "source": [
        "### 1. Which Evaluation metrics did you consider for a positive business impact and why?"
      ],
      "metadata": {
        "id": "h_CCil-SKHpo"
      }
    },
    {
      "cell_type": "markdown",
      "source": [
        "Answer Here."
      ],
      "metadata": {
        "id": "jHVz9hHDKFms"
      }
    },
    {
      "cell_type": "markdown",
      "source": [
        "### 2. Which ML model did you choose from the above created models as your final prediction model and why?"
      ],
      "metadata": {
        "id": "cBFFvTBNJzUa"
      }
    },
    {
      "cell_type": "markdown",
      "source": [
        "Answer Here."
      ],
      "metadata": {
        "id": "6ksF5Q1LKTVm"
      }
    },
    {
      "cell_type": "markdown",
      "source": [
        "### 3. Explain the model which you have used and the feature importance using any model explainability tool?"
      ],
      "metadata": {
        "id": "HvGl1hHyA_VK"
      }
    },
    {
      "cell_type": "markdown",
      "source": [
        "Answer Here."
      ],
      "metadata": {
        "id": "YnvVTiIxBL-C"
      }
    },
    {
      "cell_type": "markdown",
      "source": [
        "## ***8.*** ***Future Work (Optional)***"
      ],
      "metadata": {
        "id": "EyNgTHvd2WFk"
      }
    },
    {
      "cell_type": "markdown",
      "source": [
        "### 1. Save the best performing ml model in a pickle file or joblib file format for deployment process.\n"
      ],
      "metadata": {
        "id": "KH5McJBi2d8v"
      }
    },
    {
      "cell_type": "code",
      "source": [
        "# Save the File"
      ],
      "metadata": {
        "id": "bQIANRl32f4J"
      },
      "execution_count": null,
      "outputs": []
    },
    {
      "cell_type": "markdown",
      "source": [
        "### 2. Again Load the saved model file and try to predict unseen data for a sanity check.\n"
      ],
      "metadata": {
        "id": "iW_Lq9qf2h6X"
      }
    },
    {
      "cell_type": "code",
      "source": [
        "# Load the File and predict unseen data."
      ],
      "metadata": {
        "id": "oEXk9ydD2nVC"
      },
      "execution_count": null,
      "outputs": []
    },
    {
      "cell_type": "markdown",
      "source": [
        "### ***Congrats! Your model is successfully created and ready for deployment on a live server for a real user interaction !!!***"
      ],
      "metadata": {
        "id": "-Kee-DAl2viO"
      }
    },
    {
      "cell_type": "markdown",
      "source": [
        "# **Conclusion**"
      ],
      "metadata": {
        "id": "gCX9965dhzqZ"
      }
    },
    {
      "cell_type": "markdown",
      "source": [
        "Write the conclusion here."
      ],
      "metadata": {
        "id": "Fjb1IsQkh3yE"
      }
    },
    {
      "cell_type": "markdown",
      "source": [
        "### ***Hurrah! You have successfully completed your Machine Learning Capstone Project !!!***"
      ],
      "metadata": {
        "id": "gIfDvo9L0UH2"
      }
    }
  ]
}